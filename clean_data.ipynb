{
 "cells": [
  {
   "cell_type": "code",
   "execution_count": 1,
   "metadata": {},
   "outputs": [],
   "source": [
    "import pandas as pd\n",
    "import numpy as np\n",
    "import datetime\n",
    "from scrape import scrape"
   ]
  },
  {
   "cell_type": "markdown",
   "metadata": {},
   "source": [
    "## Table of Contents\n",
    "\n",
    "1. [Scrape Data](#1.-Scrape-Data)\n",
    "2. [Data Cleaning](#2.-Data-Cleaning)\n",
    "3. [Feature Engineering](#3.-Feature-Engineering)\n",
    "4. [Reshape Data for Tableau](#4.-Reshape-Data-for-Tableau)\n",
    "5. [Save Final Dataframe](#5.-Save-Final-Dataframe)\n",
    "\n",
    "## 1. Scrape Data"
   ]
  },
  {
   "cell_type": "code",
   "execution_count": 2,
   "metadata": {},
   "outputs": [],
   "source": [
    "# scrape lens data from nikon.com\n",
    "# http://www.nikonusa.com/en/nikon-products/camera-lenses/all-lenses/index.page\n",
    "\n",
    "lenses = scrape()\n",
    "\n",
    "# filter columns\n",
    "keep = ['Approx. Dimensions (Diameter x Length)',\n",
    "        'Approx. Weight',\n",
    "        'Autofocus',\n",
    "        'Focal Length',\n",
    "        'Focal Length Range',\n",
    "        'Format',\n",
    "        'Lens Elements',\n",
    "        'Lens Groups',\n",
    "        'Maximum Aperture',\n",
    "        'Minimum Aperture',\n",
    "        'Price',\n",
    "        'VR (Vibration Reduction) Image Stabilization',\n",
    "        'Url']\n",
    "\n",
    "lenses = lenses[keep]\n",
    "\n",
    "# Rename Columns\n",
    "lenses.rename(index = str,\n",
    "              inplace = True,\n",
    "              columns = {'Approx. Dimensions (Diameter x Length)': 'Dimensions',\n",
    "                         'Approx. Weight': 'Weight',\n",
    "                         'VR (Vibration Reduction) Image Stabilization':'VR'})\n",
    "\n",
    "# lenses.head()"
   ]
  },
  {
   "cell_type": "markdown",
   "metadata": {},
   "source": [
    "## 2. Data Cleaning"
   ]
  },
  {
   "cell_type": "code",
   "execution_count": 3,
   "metadata": {},
   "outputs": [],
   "source": [
    "# Remove rows that don't contain Focal Length data\n",
    "lenses = lenses[~(lenses['Focal Length'].isnull() & lenses['Focal Length Range'].isnull())]\n",
    "\n",
    "# Check for nulls and view data types\n",
    "\n",
    "#lenses.isnull().any()\n",
    "lenses[['Lens Elements','Lens Groups']] = lenses[['Lens Elements','Lens Groups']].apply(pd.to_numeric)\n",
    "\n",
    "# lenses.info()\n",
    "# lenses.head()"
   ]
  },
  {
   "cell_type": "markdown",
   "metadata": {},
   "source": [
    "### Dimensions"
   ]
  },
  {
   "cell_type": "code",
   "execution_count": 4,
   "metadata": {},
   "outputs": [],
   "source": [
    "# Calculate length of dimension data list. Should contain 4 values\n",
    "# Format: diameter_in (diameter_mm) x length_in (length_mm)\n",
    "\n",
    "lenses['dim_test'] = lenses.Dimensions.apply(lambda x: x.split(',')).str.len()\n",
    "\n",
    "# Find incorrect values and correct them\n",
    "lenses.iloc[23,lenses.columns.get_loc('Dimensions')] = '3.3,83,3.7,95'\n",
    "lenses.iloc[27,lenses.columns.get_loc('Dimensions')] = '2.6,66,1.7,43'\n",
    "\n",
    "# Verify Fix\n",
    "# lenses['dim_test'] = lenses.Dimensions.apply(lambda x: x.split(',')).str.len()\n",
    "#lenses[lenses['dim_test'] != 4]"
   ]
  },
  {
   "cell_type": "code",
   "execution_count": 5,
   "metadata": {},
   "outputs": [],
   "source": [
    "# Keep only 1st and 3rd values (diameter_in,length_in)\n",
    "lenses['Diameter (In.)'] = lenses['Dimensions'].apply(lambda x: float(x.split(',')[0]))\n",
    "lenses['Length (In.)'] = lenses['Dimensions'].apply(lambda x: float(x.split(',')[2]))\n",
    "\n",
    "lenses.drop(['dim_test','Dimensions'],inplace=True,axis=1)\n",
    "#lenses.sample(5)"
   ]
  },
  {
   "cell_type": "markdown",
   "metadata": {},
   "source": [
    "### Weight"
   ]
  },
  {
   "cell_type": "code",
   "execution_count": 6,
   "metadata": {},
   "outputs": [],
   "source": [
    "lenses['wt_test'] = lenses.Weight.apply(lambda x: x.split(',')).str.len()\n",
    "\n",
    "lenses.iloc[82,lenses.columns.get_loc('Weight')] = '21.9'\n",
    "\n",
    "lenses['Weight (oz.)'] = lenses['Weight'].apply(lambda x: float(x.split(',')[0]))\n",
    "\n",
    "lenses.drop(['wt_test','Weight'],inplace=True,axis=1)"
   ]
  },
  {
   "cell_type": "markdown",
   "metadata": {},
   "source": [
    "### Autofocus"
   ]
  },
  {
   "cell_type": "code",
   "execution_count": 7,
   "metadata": {},
   "outputs": [],
   "source": [
    "# Set Null values to \"No\"\n",
    "lenses.loc[lenses['Autofocus'].isnull(),'Autofocus'] = 'No'"
   ]
  },
  {
   "cell_type": "markdown",
   "metadata": {},
   "source": [
    "### Focal Length"
   ]
  },
  {
   "cell_type": "code",
   "execution_count": 8,
   "metadata": {},
   "outputs": [],
   "source": [
    "# 'Focal Length' 'Focal Length Range'\n",
    "# get min and max focal length values\n",
    "\n",
    "# Combine non-Null values in 'Focal Length' and 'Focal Length Range'\n",
    "lenses['lengths'] = lenses['Focal Length'].fillna(lenses['Focal Length Range'])\n",
    "\n",
    "def focalLengths(s):\n",
    "    # assign min and max focal length variables\n",
    "    s = [float(ss) for ss in s.split(',')]\n",
    "    \n",
    "    if len(s) == 1:\n",
    "        minFlen,maxFlen = s[0],s[0]\n",
    "    else:\n",
    "        minFlen,maxFlen = s\n",
    "    return minFlen,maxFlen\n",
    "\n",
    "lenses[['Min. Focal Length (mm)','Max. Focal Length (mm)']] = lenses['lengths'].apply(focalLengths).apply(pd.Series)\n",
    "lenses.drop(['lengths'],inplace=True,axis=1)\n",
    "# lenses.head(2)"
   ]
  },
  {
   "cell_type": "markdown",
   "metadata": {},
   "source": [
    "### Format"
   ]
  },
  {
   "cell_type": "code",
   "execution_count": 9,
   "metadata": {},
   "outputs": [],
   "source": [
    "# Assign FX or DX values\n",
    "lenses.loc[lenses.Format == 'FX/35mm,DX','Format'] = 'FX'\n",
    "lenses.loc[lenses.Format == 'FX/35mm','Format'] = 'FX'\n",
    "\n",
    "# lenses.Format.value_counts()"
   ]
  },
  {
   "cell_type": "markdown",
   "metadata": {},
   "source": [
    "### Aperture"
   ]
  },
  {
   "cell_type": "code",
   "execution_count": 10,
   "metadata": {},
   "outputs": [],
   "source": [
    "def apertureBounds(s):\n",
    "    # Assign upper and lower bounds for Aperture f-numbers\n",
    "    s = [float(ss) for ss in s.split('-')]\n",
    "    \n",
    "    if len(s) == 1:\n",
    "        minFnum,maxFnum = s[0],s[0]\n",
    "    else:\n",
    "        minFnum = min(s)\n",
    "        maxFnum = max(s)\n",
    "    return minFnum,maxFnum\n",
    "\n",
    "# Upper and Lower Bounds for Maximum Aperture\n",
    "max_aperture_cols = ['Max. Aperture (Upper Bound)','Max. Aperture (Lower Bound)']\n",
    "lenses[max_aperture_cols] = lenses['Maximum Aperture'].apply(apertureBounds).apply(pd.Series)\n",
    "\n",
    "# Upper and Lower Bounds for Minimum Aperture\n",
    "min_aperture_cols = ['Min. Aperture (Upper Bound)','Min. Aperture (Lower Bound)']\n",
    "lenses[min_aperture_cols] = lenses['Minimum Aperture'].apply(apertureBounds).apply(pd.Series)"
   ]
  },
  {
   "cell_type": "markdown",
   "metadata": {},
   "source": [
    "### Vibration Reduction"
   ]
  },
  {
   "cell_type": "code",
   "execution_count": 11,
   "metadata": {},
   "outputs": [],
   "source": [
    "# Set Null values to \"No\"\n",
    "lenses.loc[lenses['VR'].isnull(),'VR'] = 'No'\n",
    "\n",
    "# lenses['VR'].value_counts()"
   ]
  },
  {
   "cell_type": "markdown",
   "metadata": {},
   "source": [
    "## 3. Feature Engineering"
   ]
  },
  {
   "cell_type": "code",
   "execution_count": 12,
   "metadata": {},
   "outputs": [],
   "source": [
    "#  # Assign name to each lens\n",
    "\n",
    "def lensName(s):\n",
    "    # Concatenate focal length range with aperture range\n",
    "    name = ''\n",
    "\n",
    "    if pd.isnull(s[0]):\n",
    "        # telephoto type lens\n",
    "        aps = s[1].split(',')\n",
    "        \n",
    "        fMin = aps[0]\n",
    "        fMax = aps[1]\n",
    "        \n",
    "        name += aps[0] + '-' + aps[1] + 'mm'\n",
    "    else:\n",
    "        # prime lens\n",
    "        name += s[0] + 'mm'\n",
    "    \n",
    "    return name + ' f' + s[2]\n",
    "    \n",
    "    \n",
    "lenses['name'] = lenses[['Focal Length','Focal Length Range','Maximum Aperture']].apply(lensName,axis=1)"
   ]
  },
  {
   "cell_type": "code",
   "execution_count": 13,
   "metadata": {},
   "outputs": [],
   "source": [
    "# Define lens type (Prime vs. Zoom)\n",
    "def lensType(s):\n",
    "    # Return \"Prime\" lens type if Focal Length Range is Null\n",
    "    if pd.isnull(s):\n",
    "        return 'Prime'\n",
    "    return 'Zoom'\n",
    "    \n",
    "lenses['Lens Type'] = lenses['Focal Length Range'].apply(lensType)"
   ]
  },
  {
   "cell_type": "code",
   "execution_count": 14,
   "metadata": {},
   "outputs": [],
   "source": [
    "# Focal Length Bins (Wide Angle, Standard, Telephoto, etc.)\n",
    "lenses['Focal Length Group'] = pd.cut(lenses['Max. Focal Length (mm)'],\n",
    "                                      bins=[0, 24, 35, 85, 135, 300, 1000],\n",
    "                                      include_lowest=True,\n",
    "                                      right=False,\n",
    "                                      labels=['Ultra Wide Angle',\n",
    "                                              'Wide Angle',\n",
    "                                              'Standard',\n",
    "                                              'Short Telephoto',\n",
    "                                              'Medium Telephoto',\n",
    "                                              'Super Telephoto'])\n",
    "\n",
    "# Drop Unecessary Columns\n",
    "drop_cols = ['Focal Length',\n",
    "             'Focal Length Range',\n",
    "             'Maximum Aperture',\n",
    "             'Minimum Aperture']\n",
    "\n",
    "lenses.drop(drop_cols,inplace=True,axis=1)\n",
    "\n",
    "#lenses.head()"
   ]
  },
  {
   "cell_type": "markdown",
   "metadata": {},
   "source": [
    "## 4. Reshape Data for Tableau"
   ]
  },
  {
   "cell_type": "code",
   "execution_count": 15,
   "metadata": {},
   "outputs": [],
   "source": [
    "# Empty df to preserve index\n",
    "empty = lenses[['Url']]\n",
    "\n",
    "# Stacked focal lengths for tableau plotting\n",
    "flens = pd.melt(lenses,\n",
    "                id_vars = ['Url'],\n",
    "                col_level = 0,\n",
    "                value_name = 'Focal Length',\n",
    "                value_vars = ['Min. Focal Length (mm)',\n",
    "                              'Max. Focal Length (mm)'])\n",
    "\n",
    "flens = empty.reset_index().merge(flens, on = 'Url')\n",
    "flens = flens.sort_values(['index','Focal Length'],ascending=[True,False])\n",
    "\n",
    "# Stacked max. apertures for tableau plotting\n",
    "aperts = pd.melt(lenses,\n",
    "                id_vars = ['Url'],\n",
    "                col_level = 0,\n",
    "                value_name = 'Max. Aperture',\n",
    "                value_vars = ['Max. Aperture (Upper Bound)',\n",
    "                              'Max. Aperture (Lower Bound)'])\n",
    "\n",
    "aperts = empty.reset_index().merge(aperts, on = 'Url')\n",
    "aperts = aperts.sort_values(['index','Max. Aperture'],ascending=[True,False])"
   ]
  },
  {
   "cell_type": "markdown",
   "metadata": {},
   "source": [
    "## 5. Save Final Dataframe"
   ]
  },
  {
   "cell_type": "code",
   "execution_count": 16,
   "metadata": {},
   "outputs": [],
   "source": [
    "measures = pd.concat([aperts[['index','Max. Aperture']],flens['Focal Length']],axis = 1)\n",
    "\n",
    "final = lenses.merge(measures, left_index = True, right_on='index').set_index('index')\n",
    "\n",
    "today = datetime.datetime.today().strftime('%Y%m%d')\n",
    "\n",
    "final.to_csv('nikon_lenses_' + today + '.csv')"
   ]
  }
 ],
 "metadata": {
  "kernelspec": {
   "display_name": "Python 3",
   "language": "python",
   "name": "python3"
  },
  "language_info": {
   "codemirror_mode": {
    "name": "ipython",
    "version": 3
   },
   "file_extension": ".py",
   "mimetype": "text/x-python",
   "name": "python",
   "nbconvert_exporter": "python",
   "pygments_lexer": "ipython3",
   "version": "3.6.1"
  }
 },
 "nbformat": 4,
 "nbformat_minor": 2
}
